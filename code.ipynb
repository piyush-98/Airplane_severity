{
 "nbformat": 4,
 "nbformat_minor": 2,
 "metadata": {
  "language_info": {
   "name": "python",
   "codemirror_mode": {
    "name": "ipython",
    "version": 3
   },
   "version": "3.6.6-final"
  },
  "orig_nbformat": 2,
  "file_extension": ".py",
  "mimetype": "text/x-python",
  "name": "python",
  "npconvert_exporter": "python",
  "pygments_lexer": "ipython3",
  "version": 3,
  "kernelspec": {
   "name": "python36664bita2c1bdda2d9f4671a83e57cadc2b00b1",
   "display_name": "Python 3.6.6 64-bit"
  }
 },
 "cells": [
  {
   "cell_type": "code",
   "execution_count": 6,
   "metadata": {},
   "outputs": [],
   "source": [
    "import pandas as pd\n",
    "import numpy as np\n",
    "import seaborn as sns\n",
    "import matplotlib.pyplot as plt"
   ]
  },
  {
   "cell_type": "code",
   "execution_count": 4,
   "metadata": {},
   "outputs": [],
   "source": [
    "data=pd.read_csv('train.csv')"
   ]
  },
  {
   "cell_type": "code",
   "execution_count": 18,
   "metadata": {},
   "outputs": [
    {
     "data": {
      "text/html": "<div>\n<style scoped>\n    .dataframe tbody tr th:only-of-type {\n        vertical-align: middle;\n    }\n\n    .dataframe tbody tr th {\n        vertical-align: top;\n    }\n\n    .dataframe thead th {\n        text-align: right;\n    }\n</style>\n<table border=\"1\" class=\"dataframe\">\n  <thead>\n    <tr style=\"text-align: right;\">\n      <th></th>\n      <th>Severity</th>\n      <th>Safety_Score</th>\n      <th>Days_Since_Inspection</th>\n      <th>Total_Safety_Complaints</th>\n      <th>Control_Metric</th>\n      <th>Turbulence_In_gforces</th>\n      <th>Cabin_Temperature</th>\n      <th>Accident_Type_Code</th>\n      <th>Max_Elevation</th>\n      <th>Violations</th>\n      <th>Adverse_Weather_Metric</th>\n    </tr>\n  </thead>\n  <tbody>\n    <tr>\n      <th>0</th>\n      <td>Minor_Damage_And_Injuries</td>\n      <td>49.223744</td>\n      <td>14</td>\n      <td>22</td>\n      <td>71.285324</td>\n      <td>0.272118</td>\n      <td>78.04</td>\n      <td>2</td>\n      <td>31335.476824</td>\n      <td>3</td>\n      <td>0.424352</td>\n    </tr>\n    <tr>\n      <th>1</th>\n      <td>Minor_Damage_And_Injuries</td>\n      <td>62.465753</td>\n      <td>10</td>\n      <td>27</td>\n      <td>72.288058</td>\n      <td>0.423939</td>\n      <td>84.54</td>\n      <td>2</td>\n      <td>26024.711057</td>\n      <td>2</td>\n      <td>0.352350</td>\n    </tr>\n    <tr>\n      <th>2</th>\n      <td>Significant_Damage_And_Fatalities</td>\n      <td>63.059361</td>\n      <td>13</td>\n      <td>16</td>\n      <td>66.362808</td>\n      <td>0.322604</td>\n      <td>78.86</td>\n      <td>7</td>\n      <td>39269.053927</td>\n      <td>3</td>\n      <td>0.003364</td>\n    </tr>\n    <tr>\n      <th>3</th>\n      <td>Significant_Damage_And_Serious_Injuries</td>\n      <td>48.082192</td>\n      <td>11</td>\n      <td>9</td>\n      <td>74.703737</td>\n      <td>0.337029</td>\n      <td>81.79</td>\n      <td>3</td>\n      <td>42771.499200</td>\n      <td>1</td>\n      <td>0.211728</td>\n    </tr>\n    <tr>\n      <th>4</th>\n      <td>Significant_Damage_And_Fatalities</td>\n      <td>26.484018</td>\n      <td>13</td>\n      <td>25</td>\n      <td>47.948952</td>\n      <td>0.541140</td>\n      <td>77.16</td>\n      <td>3</td>\n      <td>35509.228515</td>\n      <td>2</td>\n      <td>0.176883</td>\n    </tr>\n  </tbody>\n</table>\n</div>",
      "text/plain": "                                  Severity  Safety_Score  \\\n0                Minor_Damage_And_Injuries     49.223744   \n1                Minor_Damage_And_Injuries     62.465753   \n2        Significant_Damage_And_Fatalities     63.059361   \n3  Significant_Damage_And_Serious_Injuries     48.082192   \n4        Significant_Damage_And_Fatalities     26.484018   \n\n   Days_Since_Inspection  Total_Safety_Complaints  Control_Metric  \\\n0                     14                       22       71.285324   \n1                     10                       27       72.288058   \n2                     13                       16       66.362808   \n3                     11                        9       74.703737   \n4                     13                       25       47.948952   \n\n   Turbulence_In_gforces  Cabin_Temperature  Accident_Type_Code  \\\n0               0.272118              78.04                   2   \n1               0.423939              84.54                   2   \n2               0.322604              78.86                   7   \n3               0.337029              81.79                   3   \n4               0.541140              77.16                   3   \n\n   Max_Elevation  Violations  Adverse_Weather_Metric  \n0   31335.476824           3                0.424352  \n1   26024.711057           2                0.352350  \n2   39269.053927           3                0.003364  \n3   42771.499200           1                0.211728  \n4   35509.228515           2                0.176883  "
     },
     "execution_count": 18,
     "metadata": {},
     "output_type": "execute_result"
    }
   ],
   "source": [
    "data.head()"
   ]
  },
  {
   "cell_type": "code",
   "execution_count": 8,
   "metadata": {},
   "outputs": [
    {
     "data": {
      "text/plain": "(10000, 12)"
     },
     "execution_count": 8,
     "metadata": {},
     "output_type": "execute_result"
    }
   ],
   "source": [
    "data.shape"
   ]
  },
  {
   "cell_type": "code",
   "execution_count": 11,
   "metadata": {},
   "outputs": [
    {
     "data": {
      "text/plain": "10000"
     },
     "execution_count": 11,
     "metadata": {},
     "output_type": "execute_result"
    }
   ],
   "source": [
    "len(data['Accident_ID'].unique())"
   ]
  },
  {
   "cell_type": "code",
   "execution_count": 12,
   "metadata": {},
   "outputs": [],
   "source": [
    "del data[\"Accident_ID\"]"
   ]
  },
  {
   "cell_type": "code",
   "execution_count": 16,
   "metadata": {},
   "outputs": [
    {
     "data": {
      "text/plain": "array([3, 2, 1, 0, 4, 5], dtype=int64)"
     },
     "execution_count": 16,
     "metadata": {},
     "output_type": "execute_result"
    }
   ],
   "source": [
    "(data['Accident_Type_Code'].unique())"
   ]
  },
  {
   "cell_type": "code",
   "execution_count": 19,
   "metadata": {},
   "outputs": [],
   "source": [
    "y=data[\"Severity\"]"
   ]
  },
  {
   "cell_type": "code",
   "execution_count": 20,
   "metadata": {},
   "outputs": [],
   "source": [
    "del data[\"Severity\"]"
   ]
  },
  {
   "cell_type": "code",
   "execution_count": 22,
   "metadata": {},
   "outputs": [
    {
     "data": {
      "text/html": "<div>\n<style scoped>\n    .dataframe tbody tr th:only-of-type {\n        vertical-align: middle;\n    }\n\n    .dataframe tbody tr th {\n        vertical-align: top;\n    }\n\n    .dataframe thead th {\n        text-align: right;\n    }\n</style>\n<table border=\"1\" class=\"dataframe\">\n  <thead>\n    <tr style=\"text-align: right;\">\n      <th></th>\n      <th>Safety_Score</th>\n      <th>Days_Since_Inspection</th>\n      <th>Total_Safety_Complaints</th>\n      <th>Control_Metric</th>\n      <th>Turbulence_In_gforces</th>\n      <th>Cabin_Temperature</th>\n      <th>Accident_Type_Code</th>\n      <th>Max_Elevation</th>\n      <th>Violations</th>\n      <th>Adverse_Weather_Metric</th>\n    </tr>\n  </thead>\n  <tbody>\n    <tr>\n      <th>0</th>\n      <td>49.223744</td>\n      <td>14</td>\n      <td>22</td>\n      <td>71.285324</td>\n      <td>0.272118</td>\n      <td>78.04</td>\n      <td>2</td>\n      <td>31335.476824</td>\n      <td>3</td>\n      <td>0.424352</td>\n    </tr>\n    <tr>\n      <th>1</th>\n      <td>62.465753</td>\n      <td>10</td>\n      <td>27</td>\n      <td>72.288058</td>\n      <td>0.423939</td>\n      <td>84.54</td>\n      <td>2</td>\n      <td>26024.711057</td>\n      <td>2</td>\n      <td>0.352350</td>\n    </tr>\n    <tr>\n      <th>2</th>\n      <td>63.059361</td>\n      <td>13</td>\n      <td>16</td>\n      <td>66.362808</td>\n      <td>0.322604</td>\n      <td>78.86</td>\n      <td>7</td>\n      <td>39269.053927</td>\n      <td>3</td>\n      <td>0.003364</td>\n    </tr>\n    <tr>\n      <th>3</th>\n      <td>48.082192</td>\n      <td>11</td>\n      <td>9</td>\n      <td>74.703737</td>\n      <td>0.337029</td>\n      <td>81.79</td>\n      <td>3</td>\n      <td>42771.499200</td>\n      <td>1</td>\n      <td>0.211728</td>\n    </tr>\n    <tr>\n      <th>4</th>\n      <td>26.484018</td>\n      <td>13</td>\n      <td>25</td>\n      <td>47.948952</td>\n      <td>0.541140</td>\n      <td>77.16</td>\n      <td>3</td>\n      <td>35509.228515</td>\n      <td>2</td>\n      <td>0.176883</td>\n    </tr>\n  </tbody>\n</table>\n</div>",
      "text/plain": "   Safety_Score  Days_Since_Inspection  Total_Safety_Complaints  \\\n0     49.223744                     14                       22   \n1     62.465753                     10                       27   \n2     63.059361                     13                       16   \n3     48.082192                     11                        9   \n4     26.484018                     13                       25   \n\n   Control_Metric  Turbulence_In_gforces  Cabin_Temperature  \\\n0       71.285324               0.272118              78.04   \n1       72.288058               0.423939              84.54   \n2       66.362808               0.322604              78.86   \n3       74.703737               0.337029              81.79   \n4       47.948952               0.541140              77.16   \n\n   Accident_Type_Code  Max_Elevation  Violations  Adverse_Weather_Metric  \n0                   2   31335.476824           3                0.424352  \n1                   2   26024.711057           2                0.352350  \n2                   7   39269.053927           3                0.003364  \n3                   3   42771.499200           1                0.211728  \n4                   3   35509.228515           2                0.176883  "
     },
     "execution_count": 22,
     "metadata": {},
     "output_type": "execute_result"
    }
   ],
   "source": [
    "data.head()"
   ]
  },
  {
   "cell_type": "code",
   "execution_count": 30,
   "metadata": {},
   "outputs": [],
   "source": [
    "from sklearn import preprocessing\n",
    "le = preprocessing.LabelEncoder()\n",
    "le.fit(y)\n",
    "label=le.transform(y)"
   ]
  },
  {
   "cell_type": "code",
   "execution_count": 35,
   "metadata": {},
   "outputs": [
    {
     "data": {
      "text/plain": "array([1, 1, 2, 3, 2, 1, 0, 1, 0, 3], dtype=int64)"
     },
     "execution_count": 35,
     "metadata": {},
     "output_type": "execute_result"
    }
   ],
   "source": [
    "label[0:10]"
   ]
  },
  {
   "cell_type": "code",
   "execution_count": 36,
   "metadata": {},
   "outputs": [],
   "source": [
    "from sklearn.preprocessing import MinMaxScaler\n",
    "scaler= MinMaxScaler()\n",
    "X_train_scaled = scaler.fit_transform(data)"
   ]
  },
  {
   "cell_type": "code",
   "execution_count": 40,
   "metadata": {},
   "outputs": [
    {
     "data": {
      "text/plain": "array([[0.49223744, 0.59090909, 0.40740741, ..., 0.48063219, 0.6       ,\n        0.17929156],\n       [0.62465753, 0.40909091, 0.5       , ..., 0.39695322, 0.4       ,\n        0.14884749],\n       [0.63059361, 0.54545455, 0.2962963 , ..., 0.60563743, 0.6       ,\n        0.00128854],\n       ...,\n       [0.27853881, 0.72727273, 0.01851852, ..., 0.51902316, 0.6       ,\n        0.07097345],\n       [0.56210046, 0.31818182, 0.        , ..., 0.61432501, 0.4       ,\n        0.01102064],\n       [0.5       , 0.54545455, 0.05555556, ..., 0.39664773, 0.4       ,\n        0.00706936]])"
     },
     "execution_count": 40,
     "metadata": {},
     "output_type": "execute_result"
    }
   ],
   "source": [
    "X_train_scaled"
   ]
  },
  {
   "cell_type": "code",
   "execution_count": 41,
   "metadata": {},
   "outputs": [
    {
     "name": "stdout",
     "output_type": "stream",
     "text": "0.7472\n"
    }
   ],
   "source": [
    "from sklearn.svm import SVC  ##support vector machine for classification\n",
    "clf = SVC(C=10,kernel='rbf').fit(X_train_scaled,label)\n",
    "print(clf.score(X_train_scaled,label))"
   ]
  },
  {
   "cell_type": "code",
   "execution_count": 43,
   "metadata": {},
   "outputs": [],
   "source": [
    "data_test=pd.read_csv(\"test.csv\")"
   ]
  },
  {
   "cell_type": "code",
   "execution_count": 48,
   "metadata": {},
   "outputs": [],
   "source": [
    "index=data_test[\"Accident_ID\"]\n",
    "del data_test[\"Accident_ID\"]"
   ]
  },
  {
   "cell_type": "code",
   "execution_count": 50,
   "metadata": {},
   "outputs": [],
   "source": [
    "data_test_scaled=scaler.transform(data_test)"
   ]
  },
  {
   "cell_type": "code",
   "execution_count": 53,
   "metadata": {},
   "outputs": [],
   "source": [
    "pred=clf.predict(data_test_scaled)"
   ]
  },
  {
   "cell_type": "code",
   "execution_count": 55,
   "metadata": {},
   "outputs": [
    {
     "name": "stderr",
     "output_type": "stream",
     "text": "C:\\Users\\PIYUSH\\AppData\\Local\\Programs\\Python\\Python36\\lib\\site-packages\\sklearn\\preprocessing\\label.py:151: DeprecationWarning: The truth value of an empty array is ambiguous. Returning False, but in future this will result in an error. Use `array.size > 0` to check that an array is not empty.\n  if diff:\n"
    }
   ],
   "source": [
    "pred=list(le.inverse_transform(pred))"
   ]
  },
  {
   "cell_type": "code",
   "execution_count": 60,
   "metadata": {},
   "outputs": [
    {
     "data": {
      "text/plain": "ignificant_Damage_And_Serious_Injuries',\n 'Minor_Damage_And_Injuries',\n 'Highly_Fatal_And_Damaging',\n 'Significant_Damage_And_Serious_Injuries',\n 'Significant_Damage_And_Fatalities',\n 'Minor_Damage_And_Injuries',\n 'Minor_Damage_And_Injuries',\n 'Minor_Damage_And_Injuries',\n 'Minor_Damage_And_Injuries',\n 'Minor_Damage_And_Injuries',\n 'Minor_Damage_And_Injuries',\n 'Significant_Damage_And_Serious_Injuries',\n 'Highly_Fatal_And_Damaging',\n 'Significant_Damage_And_Serious_Injuries',\n 'Significant_Damage_And_Serious_Injuries',\n 'Significant_Damage_And_Fatalities',\n 'Significant_Damage_And_Fatalities',\n 'Significant_Damage_And_Serious_Injuries',\n 'Significant_Damage_And_Fatalities',\n 'Significant_Damage_And_Serious_Injuries',\n 'Minor_Damage_And_Injuries',\n 'Highly_Fatal_And_Damaging',\n 'Highly_Fatal_And_Damaging',\n 'Minor_Damage_And_Injuries',\n 'Minor_Damage_And_Injuries',\n 'Highly_Fatal_And_Damaging',\n 'Significant_Damage_And_Fatalities',\n 'Highly_Fatal_And_Damaging',\n 'Minor_Damage_And_Injuries',\n 'Significant_Damage_And_Serious_Injuries',\n 'Highly_Fatal_And_Damaging',\n 'Significant_Damage_And_Serious_Injuries',\n 'Significant_Damage_And_Fatalities',\n 'Significant_Damage_And_Serious_Injuries',\n 'Minor_Damage_And_Injuries',\n 'Highly_Fatal_And_Damaging',\n 'Highly_Fatal_And_Damaging',\n 'Significant_Damage_And_Serious_Injuries',\n 'Significant_Damage_And_Serious_Injuries',\n 'Significant_Damage_And_Serious_Injuries',\n 'Minor_Damage_And_Injuries',\n 'Significant_Damage_And_Fatalities',\n 'Minor_Damage_And_Injuries',\n 'Highly_Fatal_And_Damaging',\n 'Highly_Fatal_And_Damaging',\n 'Highly_Fatal_And_Damaging',\n 'Highly_Fatal_And_Damaging',\n 'Significant_Damage_And_Fatalities',\n 'Significant_Damage_And_Serious_Injuries',\n 'Significant_Damage_And_Serious_Injuries',\n 'Significant_Damage_And_Serious_Injuries',\n 'Significant_Damage_And_Serious_Injuries',\n 'Highly_Fatal_And_Damaging',\n 'Highly_Fatal_And_Damaging',\n 'Highly_Fatal_And_Damaging',\n 'Minor_Damage_And_Injuries',\n 'Highly_Fatal_And_Damaging',\n 'Significant_Damage_And_Fatalities',\n 'Significant_Damage_And_Serious_Injuries',\n 'Highly_Fatal_And_Damaging',\n 'Minor_Damage_And_Injuries',\n 'Highly_Fatal_And_Damaging',\n 'Highly_Fatal_And_Damaging',\n 'Significant_Damage_And_Serious_Injuries',\n 'Minor_Damage_And_Injuries',\n 'Minor_Damage_And_Injuries',\n 'Highly_Fatal_And_Damaging',\n 'Highly_Fatal_And_Damaging',\n 'Highly_Fatal_And_Damaging',\n 'Significant_Damage_And_Fatalities',\n 'Highly_Fatal_And_Damaging',\n 'Highly_Fatal_And_Damaging',\n 'Highly_Fatal_And_Damaging',\n 'Significant_Damage_And_Serious_Injuries',\n 'Highly_Fatal_And_Damaging',\n 'Significant_Damage_And_Fatalities',\n 'Significant_Damage_And_Serious_Injuries',\n 'Significant_Damage_And_Serious_Injuries',\n 'Significant_Damage_And_Serious_Injuries',\n 'Highly_Fatal_And_Damaging',\n 'Significant_Damage_And_Fatalities',\n 'Significant_Damage_And_Serious_Injuries',\n 'Significant_Damage_And_Fatalities',\n 'Highly_Fatal_And_Damaging',\n 'Highly_Fatal_And_Damaging',\n 'Highly_Fatal_And_Damaging',\n 'Significant_Damage_And_Serious_Injuries',\n 'Minor_Damage_And_Injuries',\n 'Significant_Damage_And_Serious_Injuries',\n 'Minor_Damage_And_Injuries',\n 'Minor_Damage_And_Injuries',\n 'Significant_Damage_And_Serious_Injuries',\n 'Minor_Damage_And_Injuries',\n 'Minor_Damage_And_Injuries',\n 'Minor_Damage_And_Injuries',\n 'Minor_Damage_And_Injuries',\n 'Minor_Damage_And_Injuries',\n 'Highly_Fatal_And_Damaging',\n 'Significant_Damage_And_Fatalities',\n 'Highly_Fatal_And_Damaging',\n 'Significant_Damage_And_Serious_Injuries',\n 'Significant_Damage_And_Fatalities',\n 'Minor_Damage_And_Injuries',\n 'Highly_Fatal_And_Damaging',\n 'Minor_Damage_And_Injuries',\n 'Highly_Fatal_And_Damaging',\n 'Minor_Damage_And_Injuries',\n 'Significant_Damage_And_Serious_Injuries',\n 'Minor_Damage_And_Injuries',\n 'Minor_Damage_And_Injuries',\n 'Minor_Damage_And_Injuries',\n 'Minor_Damage_And_Injuries',\n 'Significant_Damage_And_Serious_Injuries',\n 'Minor_Damage_And_Injuries',\n 'Highly_Fatal_And_Damaging',\n 'Minor_Damage_And_Injuries',\n 'Highly_Fatal_And_Damaging',\n 'Highly_Fatal_And_Damaging',\n 'Highly_Fatal_And_Damaging',\n 'Significant_Damage_And_Serious_Injuries',\n 'Highly_Fatal_And_Damaging',\n 'Minor_Damage_And_Injuries',\n 'Minor_Damage_And_Injuries',\n 'Minor_Damage_And_Injuries',\n 'Highly_Fatal_And_Damaging',\n 'Significant_Damage_And_Serious_Injuries',\n 'Minor_Damage_And_Injuries',\n 'Minor_Damage_And_Injuries',\n 'Significant_Damage_And_Serious_Injuries',\n 'Highly_Fatal_And_Damaging',\n 'Highly_Fatal_And_Damaging',\n 'Highly_Fatal_And_Damaging',\n 'Highly_Fatal_And_Damaging',\n 'Minor_Damage_And_Injuries',\n 'Significant_Damage_And_Serious_Injuries',\n 'Highly_Fatal_And_Damaging',\n 'Highly_Fatal_And_Damaging',\n 'Significant_Damage_And_Serious_Injuries',\n 'Minor_Damage_And_Injuries',\n 'Significant_Damage_And_Serious_Injuries',\n 'Highly_Fatal_And_Damaging',\n 'Highly_Fatal_And_Damaging',\n 'Highly_Fatal_And_Damaging',\n 'Significant_Damage_And_Serious_Injuries',\n 'Highly_Fatal_And_Damaging',\n 'Minor_Damage_And_Injuries',\n 'Highly_Fatal_And_Damaging',\n 'Significant_Damage_And_Fatalities',\n 'Minor_Damage_And_Injuries',\n 'Highly_Fatal_And_Damaging',\n 'Highly_Fatal_And_Damaging',\n 'Significant_Damage_And_Fatalities',\n 'Significant_Damage_And_Serious_Injuries',\n 'Significant_Damage_And_Serious_Injuries',\n 'Highly_Fatal_And_Damaging',\n 'Significant_Damage_And_Serious_Injuries',\n 'Highly_Fatal_And_Damaging',\n 'Highly_Fatal_And_Damaging',\n 'Minor_Damage_And_Injuries',\n 'Significant_Damage_And_Serious_Injuries',\n 'Significant_Damage_And_Serious_Injuries',\n 'Highly_Fatal_And_Damaging',\n 'Minor_Damage_And_Injuries',\n 'Minor_Damage_And_Injuries',\n 'Significant_Damage_And_Serious_Injuries',\n 'Highly_Fatal_And_Damaging',\n 'Highly_Fatal_And_Damaging',\n 'Highly_Fatal_And_Damaging',\n 'Significant_Damage_And_Serious_Injuries',\n 'Minor_Damage_And_Injuries',\n 'Significant_Damage_And_Serious_Injuries',\n 'Significant_Damage_And_Serious_Injuries',\n 'Significant_Damage_And_Serious_Injuries',\n 'Significant_Damage_And_Serious_Injuries',\n 'Minor_Damage_And_Injuries',\n 'Minor_Damage_And_Injuries',\n 'Highly_Fatal_And_Damaging',\n 'Highly_Fatal_And_Damaging',\n 'Significant_Damage_And_Serious_Injuries',\n 'Significant_Damage_And_Serious_Injuries',\n 'Significant_Damage_And_Serious_Injuries',\n 'Significant_Damage_And_Serious_Injuries',\n 'Minor_Damage_And_Injuries',\n 'Significant_Damage_And_Serious_Injuries',\n 'Significant_Damage_And_Fatalities',\n 'Significant_Damage_And_Serious_Injuries',\n 'Significant_Damage_And_Serious_Injuries',\n 'Significant_Damage_And_Serious_Injuries',\n 'Highly_Fatal_And_Damaging',\n 'Highly_Fatal_And_Damaging',\n 'Minor_Damage_And_Injuries',\n 'Minor_Damage_And_Injuries',\n 'Highly_Fatal_And_Damaging',\n 'Significant_Damage_And_Fatalities',\n 'Highly_Fatal_And_Damaging',\n 'Highly_Fatal_And_Damaging',\n 'Significant_Damage_And_Serious_Injuries',\n 'Highly_Fatal_And_Damaging',\n 'Significant_Damage_And_Serious_Injuries',\n 'Significant_Damage_And_Fatalities',\n 'Highly_Fatal_And_Damaging',\n 'Highly_Fatal_And_Damaging',\n 'Minor_Damage_And_Injuries',\n 'Minor_Damage_And_Injuries',\n 'Minor_Damage_And_Injuries',\n 'Highly_Fatal_And_Damaging',\n 'Minor_Damage_And_Injuries',\n 'Significant_Damage_And_Serious_Injuries',\n 'Significant_Damage_And_Serious_Injuries',\n 'Significant_Damage_And_Fatalities',\n 'Minor_Damage_And_Injuries',\n 'Highly_Fatal_And_Damaging',\n 'Minor_Damage_And_Injuries',\n 'Significant_Damage_And_Serious_Injuries',\n 'Significant_Damage_And_Fatalities',\n 'Highly_Fatal_And_Damaging',\n 'Significant_Damage_And_Serious_Injuries',\n 'Highly_Fatal_And_Damaging',\n 'Minor_Damage_And_Injuries',\n 'Minor_Damage_And_Injuries',\n 'Minor_Damage_And_Injuries',\n 'Significant_Damage_And_Fatalities',\n 'Significant_Damage_And_Serious_Injuries',\n 'Significant_Damage_And_Serious_Injuries',\n 'Highly_Fatal_And_Damaging',\n 'Highly_Fatal_And_Damaging',\n 'Minor_Damage_And_Injuries',\n 'Minor_Damage_And_Injuries',\n 'Significant_Damage_And_Serious_Injuries',\n 'Significant_Damage_And_Serious_Injuries',\n 'Minor_Damage_And_Injuries',\n 'Significant_Damage_And_Fatalities',\n 'Highly_Fatal_And_Damaging',\n 'Minor_Damage_And_Injuries',\n 'Highly_Fatal_And_Damaging',\n 'Highly_Fatal_And_Damaging',\n 'Minor_Damage_And_Injuries',\n 'Minor_Damage_And_Injuries',\n 'Minor_Damage_And_Injuries',\n 'Minor_Damage_And_Injuries',\n 'Significant_Damage_And_Serious_Injuries',\n 'Minor_Damage_And_Injuries',\n 'Highly_Fatal_And_Damaging',\n 'Highly_Fatal_And_Damaging',\n 'Significant_Damage_And_Serious_Injuries',\n 'Significant_Damage_And_Fatalities',\n 'Highly_Fatal_And_Damaging',\n 'Significant_Damage_And_Fatalities',\n 'Significant_Damage_And_Serious_Injuries',\n 'Significant_Damage_And_Fatalities',\n 'Significant_Damage_And_Serious_Injuries',\n 'Significant_Damage_And_Serious_Injuries',\n 'Highly_Fatal_And_Damaging',\n 'Significant_Damage_And_Serious_Injuries',\n 'Minor_Damage_And_Injuries',\n 'Minor_Damage_And_Injuries',\n 'Highly_Fatal_And_Damaging',\n 'Highly_Fatal_And_Damaging',\n 'Significant_Damage_And_Serious_Injuries',\n 'Significant_Damage_And_Serious_Injuries',\n 'Minor_Damage_And_Injuries',\n 'Minor_Damage_And_Injuries',\n 'Minor_Damage_And_Injuries',\n 'Minor_Damage_And_Injuries',\n 'Highly_Fatal_And_Damaging',\n 'Significant_Damage_And_Fatalities',\n 'Significant_Damage_And_Serious_Injuries',\n 'Minor_Damage_And_Injuries',\n 'Significant_Damage_And_Serious_Injuries',\n 'Significant_Damage_And_Serious_Injuries',\n 'Minor_Damage_And_Injuries',\n 'Minor_Damage_And_Injuries',\n 'Minor_Damage_And_Injuries',\n 'Significant_Damage_And_Serious_Injuries',\n 'Highly_Fatal_And_Damaging',\n 'Minor_Damage_And_Injuries',\n 'Minor_Damage_And_Injuries',\n 'Significant_Damage_And_Serious_Injuries',\n 'Highly_Fatal_And_Damaging',\n 'Minor_Damage_And_Injuries',\n 'Significant_Damage_And_Serious_Injuries',\n 'Minor_Damage_And_Injuries',\n 'Highly_Fatal_And_Damaging',\n 'Significant_Damage_And_Serious_Injuries',\n 'Minor_Damage_And_Injuries',\n 'Significant_Damage_And_Serious_Injuries',\n 'Significant_Damage_And_Serious_Injuries',\n 'Significant_Damage_And_Serious_Injuries',\n 'Minor_Damage_And_Injuries',\n 'Minor_Damage_And_Injuries',\n 'Minor_Damage_And_Injuries',\n 'Significant_Damage_And_Serious_Injuries',\n 'Highly_Fatal_And_Damaging',\n 'Highly_Fatal_And_Damaging',\n 'Significant_Damage_And_Serious_Injuries',\n 'Significant_Damage_And_Serious_Injuries',\n 'Minor_Damage_And_Injuries',\n 'Highly_Fatal_And_Damaging',\n 'Minor_Damage_And_Injuries',\n 'Highly_Fatal_And_Damaging',\n 'Minor_Damage_And_Injuries',\n 'Highly_Fatal_And_Damaging',\n 'Minor_Damage_And_Injuries',\n 'Significant_Damage_And_Fatalities',\n 'Minor_Damage_And_Injuries',\n 'Significant_Damage_And_Fatalities',\n 'Significant_Damage_And_Serious_Injuries',\n 'Significant_Damage_And_Serious_Injuries',\n 'Highly_Fatal_And_Damaging',\n 'Significant_Damage_And_Fatalities',\n 'Highly_Fatal_And_Damaging',\n 'Minor_Damage_And_Injuries',\n 'Minor_Damage_And_Injuries',\n 'Significant_Damage_And_Serious_Injuries',\n 'Significant_Damage_And_Fatalities',\n 'Significant_Damage_And_Fatalities',\n 'Highly_Fatal_And_Damaging',\n 'Minor_Damage_And_Injuries',\n 'Significant_Damage_And_Fatalities',\n 'Significant_Damage_And_Serious_Injuries',\n 'Highly_Fatal_And_Damaging',\n 'Significant_Damage_And_Serious_Injuries',\n 'Highly_Fatal_And_Damaging',\n 'Highly_Fatal_And_Damaging',\n 'Minor_Damage_And_Injuries',\n 'Significant_Damage_And_Serious_Injuries',\n 'Minor_Damage_And_Injuries',\n 'Significant_Damage_And_Serious_Injuries',\n 'Highly_Fatal_And_Damaging',\n 'Highly_Fatal_And_Damaging',\n 'Minor_Damage_And_Injuries',\n 'Highly_Fatal_And_Damaging',\n 'Significant_Damage_And_Fatalities',\n 'Highly_Fatal_And_Damaging',\n 'Highly_Fatal_And_Damaging',\n 'Significant_Damage_And_Serious_Injuries',\n 'Minor_Damage_And_Injuries',\n 'Significant_Damage_And_Serious_Injuries',\n 'Significant_Damage_And_Serious_Injuries',\n 'Significant_Damage_And_Fatalities',\n 'Significant_Damage_And_Serious_Injuries',\n 'Significant_Damage_And_Serious_Injuries',\n 'Minor_Damage_And_Injuries',\n 'Highly_Fatal_And_Damaging',\n 'Highly_Fatal_And_Damaging',\n 'Highly_Fatal_And_Damaging',\n 'Highly_Fatal_And_Damaging',\n 'Highly_Fatal_And_Damaging',\n 'Minor_Damage_And_Injuries',\n 'Minor_Damage_And_Injuries',\n 'Significant_Damage_And_Serious_Injuries',\n 'Significant_Damage_And_Serious_Injuries',\n 'Highly_Fatal_And_Damaging',\n 'Minor_Damage_And_Injuries',\n 'Minor_Damage_And_Injuries',\n 'Significant_Damage_And_Serious_Injuries',\n 'Highly_Fatal_And_Damaging',\n 'Minor_Damage_And_Injuries',\n 'Highly_Fatal_And_Damaging',\n 'Significant_Damage_And_Serious_Injuries',\n 'Minor_Damage_And_Injuries',\n 'Minor_Damage_And_Injuries',\n 'Highly_Fatal_And_Damaging',\n 'Minor_Damage_And_Injuries',\n 'Significant_Damage_And_Serious_Injuries',\n 'Significant_Damage_And_Serious_Injuries',\n 'Significant_Damage_And_Serious_Injuries',\n 'Significant_Damage_And_Fatalities',\n 'Highly_Fatal_And_Damaging',\n 'Highly_Fatal_And_Damaging',\n 'Significant_Damage_And_Serious_Injuries',\n 'Significant_Damage_And_Serious_Injuries',\n 'Highly_Fatal_And_Damaging',\n 'Significant_Damage_And_Serious_Injuries',\n 'Significant_Damage_And_Serious_Injuries',\n 'Highly_Fatal_And_Damaging',\n 'Minor_Damage_And_Injuries',\n 'Highly_Fatal_And_Damaging',\n 'Highly_Fatal_And_Damaging',\n 'Minor_Damage_And_Injuries',\n 'Significant_Damage_And_Serious_Injuries',\n 'Significant_Damage_And_Serious_Injuries',\n 'Significant_Damage_And_Fatalities',\n 'Significant_Damage_And_Fatalities',\n 'Minor_Damage_And_Injuries',\n 'Minor_Damage_And_Injuries',\n 'Minor_Damage_And_Injuries',\n 'Significant_Damage_And_Serious_Injuries',\n 'Minor_Damage_And_Injuries',\n 'Minor_Damage_And_Injuries',\n 'Minor_Damage_And_Injuries',\n 'Highly_Fatal_And_Damaging',\n 'Highly_Fatal_And_Damaging',\n 'Significant_Damage_And_Serious_Injuries',\n 'Significant_Damage_And_Serious_Injuries',\n 'Highly_Fatal_And_Damaging',\n 'Highly_Fatal_And_Damaging',\n 'Highly_Fatal_And_Damaging',\n 'Minor_Damage_And_Injuries',\n 'Minor_Damage_And_Injuries',\n 'Significant_Damage_And_Serious_Injuries',\n 'Highly_Fatal_And_Damaging',\n 'Highly_Fatal_And_Damaging',\n 'Highly_Fatal_And_Damaging',\n 'Highly_Fatal_And_Damaging',\n 'Highly_Fatal_And_Damaging',\n 'Significant_Damage_And_Serious_Injuries',\n 'Highly_Fatal_And_Damaging',\n 'Highly_Fatal_And_Damaging',\n 'Significant_Damage_And_Fatalities',\n 'Significant_Damage_And_Serious_Injuries',\n 'Highly_Fatal_And_Damaging',\n 'Highly_Fatal_And_Damaging',\n 'Significant_Damage_And_Fatalities',\n 'Minor_Damage_And_Injuries',\n 'Significant_Damage_And_Serious_Injuries',\n 'Minor_Damage_And_Injuries',\n 'Significant_Damage_And_Serious_Injuries',\n 'Highly_Fatal_And_Damaging',\n 'Minor_Damage_And_Injuries',\n 'Minor_Damage_And_Injuries',\n 'Highly_Fatal_And_Damaging',\n 'Minor_Damage_And_Injuries',\n 'Significant_Damage_And_Serious_Injuries',\n 'Significant_Damage_And_Serious_Injuries',\n 'Significant_Damage_And_Serious_Injuries',\n 'Highly_Fatal_And_Damaging',\n 'Highly_Fatal_And_Damaging',\n 'Highly_Fatal_And_Damaging',\n 'Minor_Damage_And_Injuries',\n 'Highly_Fatal_And_Damaging',\n 'Highly_Fatal_And_Damaging',\n 'Minor_Damage_And_Injuries',\n 'Significant_Damage_And_Serious_Injuries',\n 'Highly_Fatal_And_Damaging',\n 'Highly_Fatal_And_Damaging',\n 'Minor_Damage_And_Injuries',\n 'Minor_Damage_And_Injuries',\n 'Significant_Damage_And_Serious_Injuries',\n 'Minor_Damage_And_Injuries',\n 'Significant_Damage_And_Fatalities',\n 'Highly_Fatal_And_Damaging',\n 'Significant_Damage_And_Fatalities',\n 'Significant_Damage_And_Serious_Injuries',\n 'Highly_Fatal_And_Damaging',\n 'Minor_Damage_And_Injuries',\n 'Highly_Fatal_And_Damaging',\n 'Minor_Damage_And_Injuries',\n 'Significant_Damage_And_Serious_Injuries',\n 'Highly_Fatal_And_Damaging',\n 'Significant_Damage_And_Fatalities',\n 'Highly_Fatal_And_Damaging',\n 'Minor_Damage_And_Injuries',\n 'Minor_Damage_And_Injuries',\n 'Minor_Damage_And_Injuries',\n 'Highly_Fatal_And_Damaging',\n 'Highly_Fatal_And_Damaging',\n 'Highly_Fatal_And_Damaging',\n 'Highly_Fatal_And_Damaging',\n 'Minor_Damage_And_Injuries',\n 'Minor_Damage_And_Injuries',\n 'Significant_Damage_And_Serious_Injuries',\n 'Highly_Fatal_And_Damaging',\n 'Significant_Damage_And_Serious_Injuries',\n 'Significant_Damage_And_Serious_Injuries',\n 'Significant_Damage_And_Serious_Injuries',\n 'Minor_Damage_And_Injuries',\n 'Highly_Fatal_And_Damaging',\n 'Minor_Damage_And_Injuries',\n 'Minor_Damage_And_Injuries',\n 'Significant_Damage_And_Fatalities',\n 'Highly_Fatal_And_Damaging',\n 'Significant_Damage_And_Serious_Injuries',\n 'Highly_Fatal_And_Damaging',\n 'Significant_Damage_And_Fatalities',\n 'Significant_Damage_And_Serious_Injuries',\n 'Highly_Fatal_And_Damaging',\n 'Highly_Fatal_And_Damaging',\n 'Minor_Damage_And_Injuries',\n 'Minor_Damage_And_Injuries',\n 'Highly_Fatal_And_Damaging',\n 'Significant_Damage_And_Serious_Injuries',\n 'Significant_Damage_And_Fatalities',\n 'Highly_Fatal_And_Damaging',\n 'Significant_Damage_And_Serious_Injuries',\n 'Minor_Damage_And_Injuries',\n 'Significant_Damage_And_Serious_Injuries',\n 'Minor_Damage_And_Injuries',\n 'Highly_Fatal_And_Damaging',\n 'Minor_Damage_And_Injuries',\n 'Minor_Damage_And_Injuries',\n 'Significant_Damage_And_Serious_Injuries',\n 'Significant_Damage_And_Serious_Injuries',\n 'Significant_Damage_And_Serious_Injuries',\n 'Highly_Fatal_And_Damaging',\n 'Minor_Damage_And_Injuries',\n 'Significant_Damage_And_Serious_Injuries',\n 'Minor_Damage_And_Injuries',\n 'Significant_Damage_And_Serious_Injuries',\n 'Minor_Damage_And_Injuries',\n 'Minor_Damage_And_Injuries',\n 'Significant_Damage_And_Serious_Injuries',\n 'Significant_Damage_And_Serious_Injuries',\n 'Highly_Fatal_And_Damaging',\n 'Highly_Fatal_And_Damaging',\n 'Minor_Damage_And_Injuries',\n 'Minor_Damage_And_Injuries',\n 'Highly_Fatal_And_Damaging',\n 'Significant_Damage_And_Serious_Injuries',\n 'Highly_Fatal_And_Damaging',\n 'Highly_Fatal_And_Damaging',\n 'Minor_Damage_And_Injuries',\n 'Minor_Damage_And_Injuries',\n 'Minor_Damage_And_Injuries',\n 'Significant_Damage_And_Serious_Injuries',\n 'Highly_Fatal_And_Damaging',\n 'Minor_Damage_And_Injuries',\n 'Significant_Damage_And_Serious_Injuries',\n 'Highly_Fatal_And_Damaging',\n 'Significant_Damage_And_Serious_Injuries',\n 'Significant_Damage_And_Fatalities',\n 'Minor_Damage_And_Injuries',\n 'Minor_Damage_And_Injuries',\n 'Significant_Damage_And_Serious_Injuries',\n 'Minor_Damage_And_Injuries',\n 'Significant_Damage_And_Serious_Injuries',\n 'Significant_Damage_And_Serious_Injuries',\n 'Minor_Damage_And_Injuries',\n 'Significant_Damage_And_Serious_Injuries',\n 'Minor_Damage_And_Injuries',\n 'Highly_Fatal_And_Damaging',\n 'Highly_Fatal_And_Damaging',\n 'Highly_Fatal_And_Damaging',\n 'Minor_Damage_And_Injuries',\n 'Highly_Fatal_And_Damaging',\n 'Highly_Fatal_And_Damaging',\n 'Significant_Damage_And_Fatalities',\n 'Minor_Damage_And_Injuries',\n 'Significant_Damage_And_Fatalities',\n 'Highly_Fatal_And_Damaging',\n 'Highly_Fatal_And_Damaging',\n 'Highly_Fatal_And_Damaging',\n 'Significant_Damage_And_Fatalities',\n 'Minor_Damage_And_Injuries',\n 'Minor_Damage_And_Injuries',\n 'Highly_Fatal_And_Damaging',\n 'Highly_Fatal_And_Damaging',\n 'Significant_Damage_And_Serious_Injuries',\n 'Highly_Fatal_And_Damaging',\n 'Minor_Damage_And_Injuries',\n 'Highly_Fatal_And_Damaging',\n 'Significant_Damage_And_Serious_Injuries',\n 'Highly_Fatal_And_Damaging',\n 'Minor_Damage_And_Injuries',\n 'Highly_Fatal_And_Damaging',\n 'Significant_Damage_And_Serious_Injuries',\n 'Significant_Damage_And_Fatalities',\n 'Minor_Damage_And_Injuries',\n 'Highly_Fatal_And_Damaging',\n 'Minor_Damage_And_Injuries',\n 'Highly_Fatal_And_Damaging',\n 'Minor_Damage_And_Injuries',\n 'Minor_Damage_And_Injuries',\n 'Significant_Damage_And_Serious_Injuries',\n 'Highly_Fatal_And_Damaging',\n 'Highly_Fatal_And_Damaging',\n 'Highly_Fatal_And_Damaging',\n 'Highly_Fatal_And_Damaging',\n 'Significant_Damage_And_Serious_Injuries',\n 'Highly_Fatal_And_Damaging',\n 'Highly_Fatal_And_Damaging',\n 'Significant_Damage_And_Fatalities',\n 'Highly_Fatal_And_Damaging',\n 'Significant_Damage_And_Fatalities',\n 'Significant_Damage_And_Serious_Injuries',\n 'Highly_Fatal_And_Damaging',\n 'Significant_Damage_And_Serious_Injuries',\n 'Significant_Damage_And_Serious_Injuries',\n ...]"
     },
     "execution_count": 60,
     "metadata": {},
     "output_type": "execute_result"
    }
   ],
   "source": [
    "pred"
   ]
  },
  {
   "cell_type": "code",
   "execution_count": 95,
   "metadata": {},
   "outputs": [],
   "source": [
    "submit_score=pd.DataFrame()\n",
    "submit_score[\"Accident_ID\"]=index"
   ]
  },
  {
   "cell_type": "code",
   "execution_count": 96,
   "metadata": {},
   "outputs": [],
   "source": [
    "submit_score=submit_score.drop(submit_score.index[-1])"
   ]
  },
  {
   "cell_type": "code",
   "execution_count": 97,
   "metadata": {},
   "outputs": [],
   "source": [
    "submit_score[\"Severity\"]=pred"
   ]
  },
  {
   "cell_type": "code",
   "execution_count": 99,
   "metadata": {},
   "outputs": [
    {
     "data": {
      "text/html": "<div>\n<style scoped>\n    .dataframe tbody tr th:only-of-type {\n        vertical-align: middle;\n    }\n\n    .dataframe tbody tr th {\n        vertical-align: top;\n    }\n\n    .dataframe thead th {\n        text-align: right;\n    }\n</style>\n<table border=\"1\" class=\"dataframe\">\n  <thead>\n    <tr style=\"text-align: right;\">\n      <th></th>\n      <th>Accident_ID</th>\n      <th>Severity</th>\n    </tr>\n  </thead>\n  <tbody>\n    <tr>\n      <th>0</th>\n      <td>1</td>\n      <td>Highly_Fatal_And_Damaging</td>\n    </tr>\n    <tr>\n      <th>1</th>\n      <td>10</td>\n      <td>Significant_Damage_And_Fatalities</td>\n    </tr>\n    <tr>\n      <th>2</th>\n      <td>14</td>\n      <td>Significant_Damage_And_Serious_Injuries</td>\n    </tr>\n    <tr>\n      <th>3</th>\n      <td>17</td>\n      <td>Highly_Fatal_And_Damaging</td>\n    </tr>\n    <tr>\n      <th>4</th>\n      <td>21</td>\n      <td>Highly_Fatal_And_Damaging</td>\n    </tr>\n  </tbody>\n</table>\n</div>",
      "text/plain": "  Accident_ID                                 Severity\n0           1                Highly_Fatal_And_Damaging\n1          10        Significant_Damage_And_Fatalities\n2          14  Significant_Damage_And_Serious_Injuries\n3          17                Highly_Fatal_And_Damaging\n4          21                Highly_Fatal_And_Damaging"
     },
     "execution_count": 99,
     "metadata": {},
     "output_type": "execute_result"
    }
   ],
   "source": [
    "submit_score.head()"
   ]
  },
  {
   "cell_type": "code",
   "execution_count": 101,
   "metadata": {},
   "outputs": [],
   "source": [
    "export_csv = submit_score.to_csv (r'pred.csv', index = None, header=True)"
   ]
  },
  {
   "cell_type": "code",
   "execution_count": null,
   "metadata": {},
   "outputs": [],
   "source": []
  }
 ]
}